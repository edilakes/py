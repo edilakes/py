{
  "nbformat": 4,
  "nbformat_minor": 0,
  "metadata": {
    "colab": {
      "name": "TweetEmotions.ipynb",
      "provenance": [],
      "authorship_tag": "ABX9TyM1nmTKDW/ZFFJ3FGNN+8Tq",
      "include_colab_link": true
    },
    "kernelspec": {
      "name": "python3",
      "display_name": "Python 3"
    },
    "language_info": {
      "name": "python"
    }
  },
  "cells": [
    {
      "cell_type": "markdown",
      "metadata": {
        "id": "view-in-github",
        "colab_type": "text"
      },
      "source": [
        "<a href=\"https://colab.research.google.com/github/edilakes/py/blob/main/TweetEmotions.ipynb\" target=\"_parent\"><img src=\"https://colab.research.google.com/assets/colab-badge.svg\" alt=\"Open In Colab\"/></a>"
      ]
    },
    {
      "cell_type": "code",
      "execution_count": null,
      "metadata": {
        "id": "9RX_qfclX8mk"
      },
      "outputs": [],
      "source": [
        "from PersonalData import *\n",
        "import tweepy\n",
        "from textblob import TextBlob\n",
        "\n",
        "\n",
        "auth = tweepy.OAuthHandler(consumer_key, consumer_secret)\n",
        "auth.set_access_token(access_token, access_token_secret)\n",
        "\n",
        "api = tweepy.API(auth)\n",
        "\n",
        "public_tweets = api.search_tweets('Putin')\n",
        "\n",
        "sumatorio_sentiment = 0\n",
        "\n",
        "for tweet in public_tweets:\n",
        "    print(tweet.text)\n",
        "    analysis = TextBlob(tweet.text)\n",
        "    n = public_tweets.count\n",
        "    sumatorio_sentiment = sumatorio_sentiment + analysis.sentiment.polarity\n",
        "    print(analysis.sentiment)\n",
        "mean_polarity = sumatorio_sentiment / n\n",
        "print (\"la media de polaridad es:\",mean_polarity)"
      ]
    }
  ]
}