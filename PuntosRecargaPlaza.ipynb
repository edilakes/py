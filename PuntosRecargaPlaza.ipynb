{
  "nbformat": 4,
  "nbformat_minor": 0,
  "metadata": {
    "colab": {
      "name": "PuntosRecargaPlaza.ipynb",
      "provenance": [],
      "toc_visible": true,
      "authorship_tag": "ABX9TyOKno4eGTlUcjDcXCOFxrdi",
      "include_colab_link": true
    },
    "kernelspec": {
      "name": "python3",
      "display_name": "Python 3"
    },
    "language_info": {
      "name": "python"
    }
  },
  "cells": [
    {
      "cell_type": "markdown",
      "metadata": {
        "id": "view-in-github",
        "colab_type": "text"
      },
      "source": [
        "<a href=\"https://colab.research.google.com/github/edilakes/py/blob/main/PuntosRecargaPlaza.ipynb\" target=\"_parent\"><img src=\"https://colab.research.google.com/assets/colab-badge.svg\" alt=\"Open In Colab\"/></a>"
      ]
    },
    {
      "cell_type": "code",
      "execution_count": null,
      "metadata": {
        "colab": {
          "base_uri": "https://localhost:8080/"
        },
        "id": "AZFOwDDqv4vF",
        "outputId": "739d0b16-0f5a-4070-f055-1303a56c4c2e"
      },
      "outputs": [
        {
          "name": "stdout",
          "output_type": "stream",
          "text": [
            "cuantas plazas tiene el aparcamiento?:600\n"
          ]
        },
        {
          "output_type": "execute_result",
          "data": {
            "text/plain": [
              "6"
            ]
          },
          "metadata": {},
          "execution_count": 56
        }
      ],
      "source": [
        "#Python3\n",
        "#calculator of charging points based on parking spaces\n",
        "\n",
        "parkingSpaces = int(input(\"cuantas plazas tiene el aparcamiento?:\"))\n",
        "\n",
        "def calcChargingPoints(parkingSpaces):\n",
        "  points = 0\n",
        "  for i in range(parkingSpaces):\n",
        "    if parkingSpaces < 20:\n",
        "      points =1\n",
        "    if parkingSpaces <= 500:\n",
        "        if i % 20 == 0:\n",
        "          points += 1\n",
        "    elif i % 100 == 0:\n",
        "      points += 1\n",
        "  return points\n",
        "\n",
        "\n",
        "calcChargingPoints(parkingSpaces)\n"
      ]
    }
  ]
}